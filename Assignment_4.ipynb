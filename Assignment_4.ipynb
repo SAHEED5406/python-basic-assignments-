{
 "cells": [
  {
   "cell_type": "code",
   "execution_count": null,
   "id": "4f097ba8",
   "metadata": {},
   "outputs": [],
   "source": [
    "'''\n",
    "1. What exactly is []?\n",
    "\n",
    "Ans: [] is an empty list \n",
    "'''"
   ]
  },
  {
   "cell_type": "code",
   "execution_count": null,
   "id": "e66f8acb",
   "metadata": {},
   "outputs": [],
   "source": [
    "'''\n",
    "2. In a list of values stored in a variable called spam, how would you assign the value 'hello' as the third value? \n",
    "   (Assume [2, 4, 6, 8, 10] are in spam.)\n",
    "   \n",
    "Ans:    spam = [2, 4, 6, 8, 10]\n",
    "        spam[2] = 'hello'\n",
    "        \n",
    "        by this code we can assign third value of spam to 'hello' , by which 6 would be replaced with 'hello'\n",
    "'''"
   ]
  },
  {
   "cell_type": "code",
   "execution_count": null,
   "id": "b68530f2",
   "metadata": {},
   "outputs": [],
   "source": [
    "'''\n",
    "Let's pretend the spam includes the list ['a', 'b', 'c', 'd'] for the next three queries.\n",
    "\n",
    "spam = ['a', 'b', 'c', 'd']\n",
    "\n",
    "3. What is the value of spam[int(int('3' * 2) / 11)]?\n",
    "\n",
    "Ans: int(int('3' * 2) / 11) returns 3 and spam [3] = 'd'\n",
    "'''"
   ]
  },
  {
   "cell_type": "code",
   "execution_count": null,
   "id": "88958467",
   "metadata": {},
   "outputs": [],
   "source": [
    "'''\n",
    "spam = ['a', 'b', 'c', 'd']\n",
    "\n",
    "4. What is the value of spam[-1]?\n",
    "\n",
    "Ans: spam[-1] = 'd'\n",
    "\n",
    "'''"
   ]
  },
  {
   "cell_type": "code",
   "execution_count": null,
   "id": "47b9d71f",
   "metadata": {},
   "outputs": [],
   "source": [
    "'''\n",
    "spam = ['a', 'b', 'c', 'd']\n",
    "\n",
    "5. What is the value of spam[:2]?\n",
    "\n",
    "Ans: spam[:2] = ['a','b']\n",
    "'''"
   ]
  },
  {
   "cell_type": "code",
   "execution_count": null,
   "id": "3196a01f",
   "metadata": {},
   "outputs": [],
   "source": [
    "'''\n",
    "Let's pretend bacon has the list [3.14, 'cat,' 11, 'cat,' True] for the next three questions.\n",
    "\n",
    "bacon = [3.14, 'cat', 11 , 'cat',  True]\n",
    "\n",
    "6. What is the value of bacon.index('cat')?\n",
    "\n",
    "Ans: bacon.index('cat')  returns index of first occurance of  'cat'\n",
    "     bacon.index('cat') is  1\n",
    "\n",
    "'''"
   ]
  },
  {
   "cell_type": "code",
   "execution_count": null,
   "id": "7ab8951e",
   "metadata": {},
   "outputs": [],
   "source": [
    "'''\n",
    "bacon = [3.14, 'cat', 11 , 'cat',  True]\n",
    "\n",
    "7. How does bacon.append(99) change the look of the list value in bacon?\n",
    "\n",
    "Ans : append function add item at the end of list\n",
    "      after bacon.append(99) ,  bacon  = [3.14, 'cat', 11 , 'cat',  True , 99 ]\n",
    "\n",
    "'''"
   ]
  },
  {
   "cell_type": "code",
   "execution_count": null,
   "id": "27095304",
   "metadata": {},
   "outputs": [],
   "source": [
    "'''\n",
    "bacon = [3.14, 'cat', 11 , 'cat',  True]\n",
    "\n",
    "8. How does bacon.remove('cat') change the look of the list in bacon?\n",
    "\n",
    "Ans : remove() function is used to remove item from list,\n",
    "      here after bacon.remove('cat')  , bacon = [3.14, 11 , 'cat',  True]\n",
    "'''"
   ]
  },
  {
   "cell_type": "code",
   "execution_count": null,
   "id": "0d63da77",
   "metadata": {},
   "outputs": [],
   "source": [
    "'''\n",
    "9. What are the list concatenation and list replication operators?\n",
    "\n",
    "Ans : + is list concatenation operator\n",
    "      l1 = [1,2,3]\n",
    "      l2 = [4,5,6]\n",
    "\n",
    "      l1+l2 will return [1, 2, 3, 4, 5, 6]\n",
    "      \n",
    "      =  is list replication operator\n",
    "      l2 = l1  replicating contents of list l1 to l2\n",
    "'''"
   ]
  },
  {
   "cell_type": "code",
   "execution_count": null,
   "id": "b0b15914",
   "metadata": {},
   "outputs": [],
   "source": [
    "'''\n",
    "10. What is difference between the list methods append() and insert()?\n",
    "\n",
    "Ans : Both append and insert  adds an item to list,\n",
    "      but append add at end of list , where as insert adds item at a specific index \n",
    "      \n",
    "      l.append(100) => adds 100 to list l\n",
    "      l.insert(2,100) => adds 100 to list at 2nd index\n",
    "'''"
   ]
  },
  {
   "cell_type": "code",
   "execution_count": null,
   "id": "741fd632",
   "metadata": {},
   "outputs": [],
   "source": [
    "'''\n",
    "11. What are the two methods for removing items from a list?\n",
    "\n",
    "Ans: we can remove an item from list either by its index or by directly specifying item,\n",
    "     if we need to directly mention the item itself we can use remove() function,\n",
    "     if we need to remove item using its index we need to use pop() function\n",
    "     \n",
    "     l = [1,2,3,'iNeuron'] \n",
    "     l.remove('iNeuron')  = > removes 'iNeuron' from list\n",
    "     \n",
    "     \n",
    "     l = [1,2,3,'iNeuron']\n",
    "     l.pop(3)  => removes 3rd index i.e 'iNeuron' from list  , if nothing is mentioned inside pop it removes last index item\n",
    "     \n",
    "     \n",
    "\n",
    "'''"
   ]
  },
  {
   "cell_type": "code",
   "execution_count": null,
   "id": "1d9d47d2",
   "metadata": {},
   "outputs": [],
   "source": [
    "'''\n",
    "12. Describe how list values and string values are identical.\n",
    "\n",
    "Ans : string is a collection of charecters and it is an iterable object which means charecters in string can be called using index,\n",
    "      simillarly list is also an collection different items and iterable object ,i.e items in list can be called using their index.\n",
    "\n",
    "'''"
   ]
  },
  {
   "cell_type": "code",
   "execution_count": null,
   "id": "263e4fdb",
   "metadata": {},
   "outputs": [],
   "source": [
    "'''\n",
    "13. What's the difference between tuples and lists?\n",
    "\n",
    "Ans: list is mutable object , where as tuple is immutable object.\n",
    "'''"
   ]
  },
  {
   "cell_type": "code",
   "execution_count": null,
   "id": "2c75f28b",
   "metadata": {},
   "outputs": [],
   "source": [
    "'''\n",
    "14. How do you type a tuple value that only contains the integer 42?\n",
    "\n",
    "Ans: t=(42)\n",
    "\n",
    "'''"
   ]
  },
  {
   "cell_type": "code",
   "execution_count": null,
   "id": "1745ca7d",
   "metadata": {},
   "outputs": [],
   "source": [
    "'''\n",
    "15. How do you get a list value's tuple form? How do you get a tuple value's list form?\n",
    "\n",
    "\n",
    "Ans: for converting list to tuple or tuple to list we can use type casting function tuple() and list()\n",
    "\n",
    "     l = [1,2,3]\n",
    "     t = tuple(l) ==> returns t = (1,2,3)\n",
    "     \n",
    "     t = (1,2,3)\n",
    "     l = list(l) ==> returns l = [1,2,3]\n",
    "     \n",
    "     \n",
    "     \n",
    "'''"
   ]
  },
  {
   "cell_type": "code",
   "execution_count": null,
   "id": "2457a38c",
   "metadata": {},
   "outputs": [],
   "source": [
    "'''\n",
    "16. Variables that \"contain\" list values are not necessarily lists themselves. Instead, what do they contain?\n",
    "\n",
    "Ans: List may contain list , int,float, string,tuple,dictionary ,Bool datatypes also\n",
    "\n",
    "'''"
   ]
  },
  {
   "cell_type": "code",
   "execution_count": null,
   "id": "acd6d2cc",
   "metadata": {},
   "outputs": [],
   "source": [
    "'''\n",
    "17. How do you distinguish between copy.copy() and copy.deepcopy()?\n",
    "\n",
    "\n",
    "Ans: copy.copy() is shallow copy , where as copy.deepcopy() is deep copy\n",
    "\n",
    "     in both the cases new objects with new reference would be created , \n",
    "     but in shallow copy i.e. copy.copy() change in nested objects would effect the orginal object also , \n",
    "     where as deep copy i.e. copy.deepcopy()  change in nested objects wont effect the orginal object.\n",
    "     \n",
    "\n",
    "'''"
   ]
  }
 ],
 "metadata": {
  "kernelspec": {
   "display_name": "Python 3 (ipykernel)",
   "language": "python",
   "name": "python3"
  },
  "language_info": {
   "codemirror_mode": {
    "name": "ipython",
    "version": 3
   },
   "file_extension": ".py",
   "mimetype": "text/x-python",
   "name": "python",
   "nbconvert_exporter": "python",
   "pygments_lexer": "ipython3",
   "version": "3.9.7"
  }
 },
 "nbformat": 4,
 "nbformat_minor": 5
}
