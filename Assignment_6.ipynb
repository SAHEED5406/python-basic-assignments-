{
 "cells": [
  {
   "cell_type": "code",
   "execution_count": null,
   "id": "79b35c79",
   "metadata": {},
   "outputs": [],
   "source": [
    "'''\n",
    "1. What are escape characters, and how do you use them?\n",
    "\n",
    "Ans : Escape charecters are backlash (\\) followed by any character that we want to place them in string.\n",
    "\n",
    "example 'This is iNeuron's assignment '  here we want to place ' after iNeuron  but python only considers This is iNeuron as\n",
    " string and the rest is out of string, so here we can use \\' to include ' in string and the code would be\n",
    " \n",
    " 'This is iNeuron\\'s assignment '\n",
    "\n",
    "'''"
   ]
  },
  {
   "cell_type": "code",
   "execution_count": null,
   "id": "0bf5ff6e",
   "metadata": {},
   "outputs": [],
   "source": [
    "'''\n",
    "2. What do the escape characters n and t stand for?\n",
    "\n",
    "Ans: \\n  is used to print in new line \n",
    "     for example print('Hello \\n world') would print Hello , world in two different lines \n",
    "     \n",
    "     \\t is used to have space within the string.\n",
    "     for example print('Hello\\tworld')  would print Hello  world i.e whitespace between Hello and world\n",
    "\n",
    "'''"
   ]
  },
  {
   "cell_type": "code",
   "execution_count": null,
   "id": "c7f89fe8",
   "metadata": {},
   "outputs": [],
   "source": [
    "'''\n",
    "3. What is the way to include backslash characters in a string?\n",
    "\n",
    "Ans: Blacklash followed by character \n",
    "     example \\'  or \\n or \\t \n",
    "\n",
    "'''"
   ]
  },
  {
   "cell_type": "code",
   "execution_count": null,
   "id": "22ccc264",
   "metadata": {},
   "outputs": [],
   "source": [
    "'''\n",
    "4. The string \"Howl's Moving Castle\" is a correct value. \n",
    "   Why isn't the single quote character in the word Howl's not escaped a problem?\n",
    "   \n",
    "   \n",
    "Ans: Here as we are using \" for the string ' would be automatically escaped and no need for any escape character.\n",
    "\n",
    "'''"
   ]
  },
  {
   "cell_type": "code",
   "execution_count": null,
   "id": "2133b0bc",
   "metadata": {},
   "outputs": [],
   "source": [
    "\"\"\"\n",
    "5. How do you write a string of newlines if you don't want to use the n character?\n",
    "\n",
    "Ans: Using ''' we can write strings in different lines with out using \\n \n",
    "     for example :\n",
    "     print('''Hello\n",
    "     world''')\n",
    "would print Hello and world in two different lines\n",
    "\"\"\""
   ]
  },
  {
   "cell_type": "code",
   "execution_count": null,
   "id": "c9f5dff5",
   "metadata": {},
   "outputs": [],
   "source": [
    "'''\n",
    "6. What are the values of the given expressions?\n",
    "'Hello, world!'[1]\n",
    "'Hello, world!'[0:5]\n",
    "'Hello, world!'[:5]\n",
    "'Hello, world!'[3:]\n",
    "\n",
    "Ans : 'Hello, world!'[1]     => 'e'             # index 1 in Hello, world!\n",
    "      'Hello, world!'[0:5]   => 'Hello'         # characters from 0 t0 5 in Hello, world!\n",
    "      'Hello, world!'[:5]    => 'Hello'         # characters from 0 t0 5 in Hello, world!\n",
    "      'Hello, world!'[3:]    => 'lo, world!'    # characters from index 3 to rest of string in Hello, world!\n",
    "\n",
    "\n",
    "\n",
    "'''"
   ]
  },
  {
   "cell_type": "code",
   "execution_count": null,
   "id": "747f930c",
   "metadata": {},
   "outputs": [],
   "source": [
    "'''\n",
    "7. What are the values of the following expressions?\n",
    "'Hello'.upper()\n",
    "'Hello'.upper().isupper()\n",
    "'Hello'.upper().lower()\n",
    "\n",
    "Ans: 'Hello'.upper()            => 'HELLO'  # changes the  string to uppercase\n",
    "     'Hello'.upper().isupper()  => True  # isupper() checks is the string in uppercase or not and returns True or Flase accordingly\n",
    "     'Hello'.upper().lower()    => 'hello' # lower() function changes the string to lower case\n",
    "'''"
   ]
  },
  {
   "cell_type": "code",
   "execution_count": null,
   "id": "080a3b34",
   "metadata": {},
   "outputs": [],
   "source": [
    "'''\n",
    "8. What are the values of the following expressions?\n",
    "'Remember, remember, the fifth of July.'.split()\n",
    "'-'.join('There can only one.'.split())\n",
    "\n",
    "\n",
    "Ans: 'Remember, remember, the fifth of July.'.split() => ['Remember,', 'remember,', 'the', 'fifth', 'of', 'July.'] \n",
    "     # .split() function splits the string w.r.t whitespace and stores the result in list\n",
    "     \n",
    "     '-'.join('There can only one.'.split())  => 'There-can-only-one.'\n",
    "     \n",
    "     # join() function joins the items in list to a single string with a seperator used before join function\n",
    "\n",
    "'''"
   ]
  },
  {
   "cell_type": "code",
   "execution_count": null,
   "id": "5d42f1a8",
   "metadata": {},
   "outputs": [],
   "source": [
    "'''\n",
    "9. What are the methods for right-justifying, left-justifying, and centering a string?\n",
    "\n",
    "Ans: right-justifying, left-justifying, and centering are for adding whitespace before or after or on bothsides of string\n",
    "\n",
    "for right-justifying => 'iNeuron'.rjust(10) adds whitespaces to left of string , as we have 7 characters in iNeuron 3 spaces would be added to left of iNeuron as we have mentioned 10 in rjust function\n",
    "for left-justifying  => 'iNeuron'.ljust(10) adds whitespaces to right of string , as we have 7 characters in iNeuron 3 spaces would be added to right of iNeuron as we have mentioned 10 in ljust function\n",
    "for centering => 'iNeuron'.center(10) adds whitespaces on bothsides of iNeuron\n",
    "'''"
   ]
  },
  {
   "cell_type": "code",
   "execution_count": null,
   "id": "21a95ba4",
   "metadata": {},
   "outputs": [],
   "source": [
    "'''\n",
    "10. What is the best way to remove whitespace characters from the start or end?\n",
    "\n",
    "Ans: strip() function removes whitespaces from bothsides of string.\n",
    "'''"
   ]
  }
 ],
 "metadata": {
  "kernelspec": {
   "display_name": "Python 3 (ipykernel)",
   "language": "python",
   "name": "python3"
  },
  "language_info": {
   "codemirror_mode": {
    "name": "ipython",
    "version": 3
   },
   "file_extension": ".py",
   "mimetype": "text/x-python",
   "name": "python",
   "nbconvert_exporter": "python",
   "pygments_lexer": "ipython3",
   "version": "3.9.7"
  }
 },
 "nbformat": 4,
 "nbformat_minor": 5
}
