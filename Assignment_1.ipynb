{
 "cells": [
  {
   "cell_type": "code",
   "execution_count": null,
   "id": "81f03b78",
   "metadata": {},
   "outputs": [],
   "source": [
    "''' \n",
    "1. In the below elements which of them are values or an expression? eg:- values can be integer or string and \n",
    "expressions will be mathematical operators.\n",
    "\n",
    "*,'hello',-87.8,-,/,+,6  \n",
    "\n",
    "\n",
    "Ans: 'hello',-87.8 ,6 are values where as * ,-,/,+ are operators that can be used in expressions.  '''\n"
   ]
  },
  {
   "cell_type": "code",
   "execution_count": null,
   "id": "1207815e",
   "metadata": {},
   "outputs": [],
   "source": [
    "'''\n",
    "2.What is the difference between string and variable?\n",
    "\n",
    "Ans: A string is a sequance of characters like 'iNeuron', it is one of the datatypes ,\n",
    "     where as variable is something which holds a value in memory. \n",
    "\n",
    "'''"
   ]
  },
  {
   "cell_type": "code",
   "execution_count": null,
   "id": "874db1de",
   "metadata": {},
   "outputs": [],
   "source": [
    "'''\n",
    "3.Describe three different data types ?\n",
    "\n",
    "Ans : Different datatypes are int,float,complex,string,list,tuple, set ,dictonary and bool type.\n",
    "\n",
    "'''"
   ]
  },
  {
   "cell_type": "code",
   "execution_count": null,
   "id": "7d693d28",
   "metadata": {},
   "outputs": [],
   "source": [
    "'''\n",
    "4. What is an expression made up of? What do all expressions do?\n",
    "\n",
    "Ans: An expression is made up of  operators and operands,  some of the ex of expressions are \n",
    "     a + b  => \"+\" is an addition operator which adds a and b \n",
    "     10*20   => \"*\" is an multiplication operator which operates on 10 and 20 \n",
    "     \n",
    "     Expressions operates operaters on the operands and returns the result \n",
    "'''"
   ]
  },
  {
   "cell_type": "code",
   "execution_count": null,
   "id": "2fef7fe7",
   "metadata": {},
   "outputs": [],
   "source": [
    "'''\n",
    "5. This assignment statements, like spam = 10 . What is the difference between an expression and a statement?\n",
    "\n",
    "Ans: In Expressions like a+b or a*b  we are operating + or * operator on variables a, b which return the result \n",
    "     where as by spam = 10 we are assigning 10 value to variable spam by which spam hold value 10 in memory and do not return any result, so it is a statement\n",
    "\n",
    "'''"
   ]
  },
  {
   "cell_type": "code",
   "execution_count": null,
   "id": "f5c937e3",
   "metadata": {},
   "outputs": [],
   "source": [
    "'''\n",
    "6. After running the following code, what does the variable bacon contain?\n",
    "   bacon = 22\n",
    "   bacon + 1\n",
    "   \n",
    "Ans : After  executing above code the value of bacon is 22  , \n",
    "      if code is like bacon = bacon + 1 then the value of bacon would become 23 ,\n",
    "      where as here we are only operating + operator between bacon and 1 so the value of bacon stays same as 22 \n",
    "\n",
    "'''"
   ]
  },
  {
   "cell_type": "code",
   "execution_count": null,
   "id": "86b95174",
   "metadata": {},
   "outputs": [],
   "source": [
    "'''\n",
    "7. What should the values of the following two terms be?\n",
    "   'spam' + 'spamspam'\n",
    "   'spam' * 3\n",
    "\n",
    "Ans : the value if  'spam' + 'spamspam'  is 'spamspamspam'   this is called string concatination\n",
    "      the value of 'spam' * 3 is 'spamspamspam' , this can be called as string repeatition\n",
    "'''"
   ]
  },
  {
   "cell_type": "code",
   "execution_count": null,
   "id": "f2960815",
   "metadata": {},
   "outputs": [],
   "source": [
    "'''\n",
    "8. Why is eggs a valid variable name while 100 is invalid?\n",
    "\n",
    "Ans: The rules for variables are :\n",
    "     variable can contain alphabets , numbers and _ (underscore) , but it should not start with number ,\n",
    "     from the above rules eggs contain only alphabets so it is valid variable name ,\n",
    "     where as 100 is a number so it is not a valid variable name \n",
    "'''"
   ]
  },
  {
   "cell_type": "code",
   "execution_count": null,
   "id": "ad9e2849",
   "metadata": {},
   "outputs": [],
   "source": [
    "'''\n",
    "9. What three functions can be used to get the integer, floating-point number, or string version of a value?\n",
    "\n",
    "Ans: we can use typecasting functions like int() , float() , str() functions to get int, float and string versions respectively\n",
    "     \n",
    "     for eX : int(20.2) would give 20 , int(\"45\") would give 45\n",
    "              float(20) would give 20.0 , float(\"45.2\") would give 45.2 \n",
    "              str(20) would give '20'\n",
    "\n",
    "'''"
   ]
  },
  {
   "cell_type": "code",
   "execution_count": null,
   "id": "e1396282",
   "metadata": {},
   "outputs": [],
   "source": [
    "'''\n",
    "10. Why does this expression cause an error? How can you fix it?\n",
    "    'I have eaten ' + 99 + ' burritos.'\n",
    "    \n",
    "Ans : 'I have eaten ' and ' burritos.' are string type where as 99 is int type , we can not add string type to an int type\n",
    "       this can be fixed by typecasting 99 from int to string type using str() function ,which is as below\n",
    "       'I have eaten ' + str(99) + ' burritos.' which would give 'I have eaten 99 burritos.' as result.\n",
    "'''"
   ]
  }
 ],
 "metadata": {
  "kernelspec": {
   "display_name": "Python 3 (ipykernel)",
   "language": "python",
   "name": "python3"
  },
  "language_info": {
   "codemirror_mode": {
    "name": "ipython",
    "version": 3
   },
   "file_extension": ".py",
   "mimetype": "text/x-python",
   "name": "python",
   "nbconvert_exporter": "python",
   "pygments_lexer": "ipython3",
   "version": "3.9.7"
  }
 },
 "nbformat": 4,
 "nbformat_minor": 5
}
