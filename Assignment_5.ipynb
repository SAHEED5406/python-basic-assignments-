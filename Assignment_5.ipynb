{
 "cells": [
  {
   "cell_type": "code",
   "execution_count": null,
   "id": "d2834060",
   "metadata": {},
   "outputs": [],
   "source": [
    "'''\n",
    "1. What does an empty dictionary's code look like?\n",
    "\n",
    "Ans: empty dict can be created by two ways \n",
    "\n",
    "d = dict()\n",
    "   or\n",
    "d = {}\n",
    "\n",
    "'''"
   ]
  },
  {
   "cell_type": "code",
   "execution_count": null,
   "id": "34478e60",
   "metadata": {},
   "outputs": [],
   "source": [
    "'''\n",
    "2. What is the value of a dictionary value with the key 'foo' and the value 42?\n",
    "\n",
    "Ans:\n",
    "\n",
    "d = {'foo': 42}\n",
    "d['foo'] = 42\n",
    "\n",
    "'''"
   ]
  },
  {
   "cell_type": "code",
   "execution_count": null,
   "id": "dde997ae",
   "metadata": {},
   "outputs": [],
   "source": [
    "'''\n",
    "3. What is the most significant distinction between a dictionary and a list?\n",
    "\n",
    "Ans: Both list and dictionary are collection of different type of items , \n",
    "     but in dictionary data is stored in key value pair format.\n",
    "\n",
    "'''"
   ]
  },
  {
   "cell_type": "code",
   "execution_count": null,
   "id": "d382f959",
   "metadata": {},
   "outputs": [],
   "source": [
    "'''\n",
    "4. What happens if you try to access spam['foo'] if spam is {'bar': 100}?\n",
    "\n",
    "Ans: As 'foo' and its value is not present in dictionary spam  we will get KeyError .\n",
    "'''"
   ]
  },
  {
   "cell_type": "code",
   "execution_count": null,
   "id": "b7de34ed",
   "metadata": {},
   "outputs": [],
   "source": [
    "'''5. If a dictionary is stored in spam, what is the difference between the expressions 'cat' in spam and 'cat' in spam.keys()?\n",
    "\n",
    "Ans: 'cat' in spam and 'cat' in spam.keys() , in both these cases it checks for 'cat' in keys of dictionary and True or False\n",
    "\n",
    "\n",
    "'''"
   ]
  },
  {
   "cell_type": "code",
   "execution_count": null,
   "id": "83c1bbb9",
   "metadata": {},
   "outputs": [],
   "source": [
    "'''6. If a dictionary is stored in spam, what is the difference between the expressions 'cat' in spam and 'cat' in spam.values()?\n",
    "\n",
    "Ans: 'cat' in spam   checks for  key 'cat' in dictionary spam and returns True or False\n",
    "     where as 'cat' in spam.values()  checks for 'cat' in values and returns True or False\n",
    "'''"
   ]
  },
  {
   "cell_type": "code",
   "execution_count": null,
   "id": "d5033729",
   "metadata": {},
   "outputs": [],
   "source": [
    "'''\n",
    "7. What is a shortcut for the following code?\n",
    "if 'color' not in spam:\n",
    "spam['color'] = 'black'\n",
    "\n",
    "\n",
    "Ans: spam.setdefault('color' , 'black' )  is alternate code ,\n",
    "     setdefault function checks whether key is  present in dict or not , and adds key and value pair if it doesnot present.\n",
    "'''"
   ]
  },
  {
   "cell_type": "code",
   "execution_count": null,
   "id": "a4538bf2",
   "metadata": {},
   "outputs": [],
   "source": [
    "'''\n",
    "8. How do you \"pretty print\" dictionary values using which module and function?\n",
    "\n",
    "Ans:  for \"pretty print\" we need to import pprint module and call pprint() function\n",
    "\n",
    "\n",
    "'''"
   ]
  }
 ],
 "metadata": {
  "kernelspec": {
   "display_name": "Python 3 (ipykernel)",
   "language": "python",
   "name": "python3"
  },
  "language_info": {
   "codemirror_mode": {
    "name": "ipython",
    "version": 3
   },
   "file_extension": ".py",
   "mimetype": "text/x-python",
   "name": "python",
   "nbconvert_exporter": "python",
   "pygments_lexer": "ipython3",
   "version": "3.9.7"
  }
 },
 "nbformat": 4,
 "nbformat_minor": 5
}
