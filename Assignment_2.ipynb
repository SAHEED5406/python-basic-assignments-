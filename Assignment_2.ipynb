{
 "cells": [
  {
   "cell_type": "code",
   "execution_count": null,
   "id": "cc0f3b5d",
   "metadata": {},
   "outputs": [],
   "source": [
    "'''\n",
    "1.What are the two values of the Boolean data type? How do you write them?\n",
    "\n",
    "Ans: The two Boolean datatype are True and False , they are case sensitive and should only be written as True , False .\n",
    "\n",
    "\n",
    "'''"
   ]
  },
  {
   "cell_type": "code",
   "execution_count": null,
   "id": "3c4a8bc6",
   "metadata": {},
   "outputs": [],
   "source": [
    "'''\n",
    "2. What are the three different types of Boolean operators?\n",
    "\n",
    "Ans: Different Boolean operators are AND , OR and NOT \n",
    "\n",
    "'''"
   ]
  },
  {
   "cell_type": "code",
   "execution_count": null,
   "id": "a445b062",
   "metadata": {},
   "outputs": [],
   "source": [
    "'''\n",
    "3. Make a list of each Boolean operator's truth tables \n",
    "(i.e. every possible combination of Boolean values for the operator and what it evaluate ).\n",
    "\n",
    "Ans:      AND truth table\n",
    "       True and True  => True\n",
    "       True and False => False\n",
    "      Flase and True  => False\n",
    "      False and False => False\n",
    "      \n",
    "          OR truth table\n",
    "       True or True  => True\n",
    "       True or False => True\n",
    "      Flase or True  => True\n",
    "      False or False => False \n",
    "      \n",
    "         Not truth table\n",
    "       not True  => False\n",
    "       not Flase => True\n",
    "'''"
   ]
  },
  {
   "cell_type": "code",
   "execution_count": null,
   "id": "5ee4972c",
   "metadata": {},
   "outputs": [],
   "source": [
    "'''\n",
    "4. What are the values of the following expressions?\n",
    "   (5 > 4) and (3 == 5)\n",
    "   not (5 > 4)\n",
    "   (5 > 4) or (3 == 5)\n",
    "   not ((5 > 4) or (3 == 5))\n",
    "   (True and True) and (True == False)\n",
    "   (not False) or (not True)\n",
    "   \n",
    "Ans:  (5 > 4) and (3 == 5) => False\n",
    "\n",
    "      not (5 > 4) => False\n",
    "      \n",
    "      (5 > 4) or (3 == 5)  => True\n",
    "      \n",
    "      not ((5 > 4) or (3 == 5)) => False\n",
    "      \n",
    "      (True and True) and (True == False)  => False\n",
    "      \n",
    "      (not False) or (not True)  => True\n",
    "\n",
    "\n",
    "'''"
   ]
  },
  {
   "cell_type": "code",
   "execution_count": null,
   "id": "c7787640",
   "metadata": {},
   "outputs": [],
   "source": [
    "'''\n",
    "5.What are the six comparison operators?\n",
    "\n",
    "Ans: Comparison operators are == , < , > ,<= , > = , != \n",
    "\n",
    "'''"
   ]
  },
  {
   "cell_type": "code",
   "execution_count": null,
   "id": "729b13a2",
   "metadata": {},
   "outputs": [],
   "source": [
    "'''\n",
    "6. How do you tell the difference between the equal to and assignment operators?\n",
    "   Describe a condition and when you would use one.\n",
    "   \n",
    "Ans : Equal to (==) operator compares one value to other and returns either True or False ,\n",
    "      whereas assignment (=) operator  assigns a value to a variable\n",
    "      \n",
    "      EX:  a = 10 # assigns value 10 to variable a\n",
    "           a == 10 # compares value stored in variable a with 10 and returns True or False .\n",
    "      \n",
    "'''"
   ]
  },
  {
   "cell_type": "code",
   "execution_count": null,
   "id": "6cc37728",
   "metadata": {},
   "outputs": [],
   "source": [
    "'''\n",
    "7. Identify the three blocks in this code:\n",
    "\n",
    "spam = 0\n",
    "if spam == 10:\n",
    "    print('eggs')\n",
    "if spam > 5:\n",
    "    print('bacon')\n",
    "else:\n",
    "    print('ham')\n",
    "print('spam')\n",
    "print('spam')\n",
    "\n",
    "Ans: in the above code there are two if blocks and one else block\n",
    "\n",
    "if spam == 10:\n",
    "    print('eggs') \n",
    "    \n",
    "is first if block which would be executed if value of spam is 10\n",
    "\n",
    "if spam > 5:\n",
    "    print('bacon')\n",
    "    \n",
    "is the second if block which would be executed if value of spam is greater than 5\n",
    "\n",
    "else:\n",
    "    print('ham')\n",
    "    \n",
    "is the else block which would be executed if  if block above else block fails.\n",
    "\n",
    "\n",
    "'''\n",
    "\n"
   ]
  },
  {
   "cell_type": "code",
   "execution_count": null,
   "id": "395e9817",
   "metadata": {},
   "outputs": [],
   "source": [
    "'''\n",
    "8. Write code that prints Hello if 1 is stored in spam, \n",
    "   prints Howdy if 2 is stored in spam, and prints Greetings! if anything else is stored in spam.'''\n",
    "\n",
    "spam = int(input(\"Enter an Integer : \"))\n",
    "if spam == 1:\n",
    "    print(\"Hello\")\n",
    "elif spam == 2:\n",
    "    print(\"Howdy\")\n",
    "else :\n",
    "    print(\"Greetings!\")"
   ]
  },
  {
   "cell_type": "code",
   "execution_count": null,
   "id": "2fc1eca2",
   "metadata": {},
   "outputs": [],
   "source": [
    "'''\n",
    "9.If your programme is stuck in an endless loop, what keys you’ll press?\n",
    "\n",
    "Ans: we need to press ctrl + c to come out of infinite loop , this is called keyboardinterrupt\n",
    "'''"
   ]
  },
  {
   "cell_type": "code",
   "execution_count": null,
   "id": "c6eecf59",
   "metadata": {},
   "outputs": [],
   "source": [
    "'''\n",
    "10. How can you tell the difference between break and continue?\n",
    "\n",
    "Ans: if we need to stop iterating through a loop satisfying a condition , break should be used.\n",
    "     if we need to skip the particular iteration that satisfies a condition  , continue should be used\n",
    "     \n",
    "     in the below code i iterates from 0 to 20 , if value of i becomes 10 it skips the print statement and 10 wont be printed\n",
    "     once value of i exceeds 15 it breaks the loop\n",
    "     \n",
    "\n",
    "'''\n",
    "for i in range(20) :\n",
    "    if i == 10:\n",
    "        continue \n",
    "    if i > 15 :\n",
    "        break\n",
    "    print(i)\n",
    "        \n",
    "    "
   ]
  },
  {
   "cell_type": "code",
   "execution_count": null,
   "id": "4c8d972d",
   "metadata": {},
   "outputs": [],
   "source": [
    "'''\n",
    "11. In a for loop, what is the difference between range(10), range(0, 10), and range(0, 10, 1)?\n",
    "\n",
    "Ans: All the three range(10), range(0, 10) and range(0, 10, 1) are  same , there is no difference between them\n",
    "     in for loop all the three would iterate from 0 to 9 .\n",
    "\n",
    "'''"
   ]
  },
  {
   "cell_type": "code",
   "execution_count": null,
   "id": "55f6c420",
   "metadata": {},
   "outputs": [],
   "source": [
    "'''\n",
    "12. Write a short program that prints the numbers 1 to 10 using a for loop. \n",
    "    Then write an equivalent program that prints the numbers 1 to 10 using a while loop.'''\n",
    "\n",
    "for i in range (1,11):\n",
    "    print (i)\n",
    "\n",
    "j = 1 \n",
    "while j < 11 :\n",
    "    print(j)\n",
    "    j = j+1\n",
    "    "
   ]
  },
  {
   "cell_type": "code",
   "execution_count": null,
   "id": "331c59f2",
   "metadata": {},
   "outputs": [],
   "source": [
    "'''\n",
    "13. If you had a function named bacon() inside a module named spam, how would you call it after importing spam?\n",
    "\n",
    "Ans:  module name spam , function bacon()  , below are  the two possible codes \n",
    "\n",
    "code 1\n",
    "\n",
    "import spam \n",
    "spam.bacon()\n",
    "\n",
    "code 2\n",
    "\n",
    "from spam import *\n",
    "bacon()\n",
    "\n",
    "'''"
   ]
  }
 ],
 "metadata": {
  "kernelspec": {
   "display_name": "Python 3 (ipykernel)",
   "language": "python",
   "name": "python3"
  },
  "language_info": {
   "codemirror_mode": {
    "name": "ipython",
    "version": 3
   },
   "file_extension": ".py",
   "mimetype": "text/x-python",
   "name": "python",
   "nbconvert_exporter": "python",
   "pygments_lexer": "ipython3",
   "version": "3.9.7"
  }
 },
 "nbformat": 4,
 "nbformat_minor": 5
}
