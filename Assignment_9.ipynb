{
 "cells": [
  {
   "cell_type": "markdown",
   "id": "da37092e",
   "metadata": {},
   "source": [
    "## 1. To what does a relative path refer?"
   ]
  },
  {
   "cell_type": "markdown",
   "id": "4f05b1da",
   "metadata": {},
   "source": [
    "### Ans:-  relative path is with respect to current working directory."
   ]
  },
  {
   "cell_type": "markdown",
   "id": "db20603c",
   "metadata": {},
   "source": [
    "## 2. What does an absolute path start with your operating system?"
   ]
  },
  {
   "cell_type": "markdown",
   "id": "fba52e68",
   "metadata": {},
   "source": [
    "### Ans:- Absolute path always starts with the root folder."
   ]
  },
  {
   "cell_type": "markdown",
   "id": "f70f7087",
   "metadata": {},
   "source": [
    "## 3. What do the functions os.getcwd() and os.chdir() do?"
   ]
  },
  {
   "cell_type": "markdown",
   "id": "96b1c549",
   "metadata": {},
   "source": [
    "### Ans:- os.getcwd() gives current working directory , os.chdir() is used to change the directory location"
   ]
  },
  {
   "cell_type": "markdown",
   "id": "07e2dfae",
   "metadata": {},
   "source": [
    "## 4. What are the . and .. folders?"
   ]
  },
  {
   "cell_type": "markdown",
   "id": "953dea87",
   "metadata": {},
   "source": [
    "### Ans:- . represents current working directory , .. represents parent folder of current working directory"
   ]
  },
  {
   "cell_type": "markdown",
   "id": "2241b29b",
   "metadata": {},
   "source": [
    "## 5. In C:\\bacon\\eggs\\spam.txt, which part is the dir name, and which part is the base name?"
   ]
  },
  {
   "cell_type": "markdown",
   "id": "9dcff283",
   "metadata": {},
   "source": [
    "### Ans:- in C:\\bacon\\eggs\\spam.txt ,spam.txt is base name where as C:\\bacon\\eggs is dir name"
   ]
  },
  {
   "cell_type": "markdown",
   "id": "41e66bc9",
   "metadata": {},
   "source": [
    "## 6. What are the three “mode” arguments that can be passed to the open() function?"
   ]
  },
  {
   "cell_type": "markdown",
   "id": "79843f76",
   "metadata": {},
   "source": [
    "### Ans:- Three modes that can be passed to open() are read mode , write mode , append mode."
   ]
  },
  {
   "cell_type": "markdown",
   "id": "3c28f196",
   "metadata": {},
   "source": [
    "## 7. What happens if an existing file is opened in write mode?"
   ]
  },
  {
   "cell_type": "markdown",
   "id": "0d6984a0",
   "metadata": {},
   "source": [
    "### Ans:- if existing file is opened in write mode it will override the existing file and start wirting from the first. i.e. the whole content in old files gets deleted."
   ]
  },
  {
   "cell_type": "markdown",
   "id": "f203ad1c",
   "metadata": {},
   "source": [
    "## 8. How do you tell the difference between read() and readlines()?"
   ]
  },
  {
   "cell_type": "markdown",
   "id": "b4d69d68",
   "metadata": {},
   "source": [
    "### Ans- read() fuctions returns the content in file as a single string , where as readlines() will retrun list of strings  considering one string for each line."
   ]
  },
  {
   "cell_type": "markdown",
   "id": "839ddea3",
   "metadata": {},
   "source": [
    "## 9. What data structure does a shelf value resemble"
   ]
  },
  {
   "cell_type": "markdown",
   "id": "0c89ff84",
   "metadata": {},
   "source": [
    "### Ans:-  shelf value resemble to dictionary data type."
   ]
  }
 ],
 "metadata": {
  "kernelspec": {
   "display_name": "Python 3 (ipykernel)",
   "language": "python",
   "name": "python3"
  },
  "language_info": {
   "codemirror_mode": {
    "name": "ipython",
    "version": 3
   },
   "file_extension": ".py",
   "mimetype": "text/x-python",
   "name": "python",
   "nbconvert_exporter": "python",
   "pygments_lexer": "ipython3",
   "version": "3.9.7"
  }
 },
 "nbformat": 4,
 "nbformat_minor": 5
}
