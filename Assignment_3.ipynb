{
 "cells": [
  {
   "cell_type": "code",
   "execution_count": null,
   "id": "4bf2c98e",
   "metadata": {},
   "outputs": [],
   "source": [
    "'''\n",
    "1. Why are functions advantageous to have in your programs?\n",
    "\n",
    "Ans: Functions helps in reusability of code , it also helps in maintaining modularity .\n",
    "'''"
   ]
  },
  {
   "cell_type": "code",
   "execution_count": null,
   "id": "347e2840",
   "metadata": {},
   "outputs": [],
   "source": [
    "'''\n",
    "2. When does the code in a function run: when it's specified or when it's called?\n",
    "\n",
    "Ans: Code inside a function would be executed only when it is called \n",
    "\n",
    "def add(a,b):\n",
    "    return a+b\n",
    "    \n",
    "above is code for adding a, b \n",
    "\n",
    "x = add  # here function name is specified which means we are alising add function to x,by this code inside function \n",
    "           wont be executed\n",
    "\n",
    "x = add(1,2) # here we are calling a function by passing arguments and storing result in x , in this case code inside \n",
    "               add would be executed.\n",
    "'''"
   ]
  },
  {
   "cell_type": "code",
   "execution_count": null,
   "id": "a4cc6e88",
   "metadata": {},
   "outputs": [],
   "source": [
    "'''\n",
    "3. What statement creates a function?\n",
    "\n",
    "Ans: with the help of def keyword we can create function , and the statement for creating function would be\n",
    " \n",
    "def function_name(arguments or inputs): \n",
    "\n",
    "'''"
   ]
  },
  {
   "cell_type": "code",
   "execution_count": null,
   "id": "36e80a3f",
   "metadata": {},
   "outputs": [],
   "source": [
    "'''\n",
    "4. What is the difference between a function and a function call?\n",
    "\n",
    "Ans: A function contains group of statements that are to be executed ,\n",
    "     where function call is invoking a function and executing the statements written inside it.\n",
    "'''"
   ]
  },
  {
   "cell_type": "code",
   "execution_count": null,
   "id": "dc246c6c",
   "metadata": {},
   "outputs": [],
   "source": [
    "'''\n",
    "5. How many global scopes are there in a Python program? How many local scopes?\n",
    "\n",
    "Ans: local variable is local to a function and it can not be used ouside a function, \n",
    "     where as global variable can be used both inside and outside a function.\n",
    "'''"
   ]
  },
  {
   "cell_type": "code",
   "execution_count": null,
   "id": "31b7744f",
   "metadata": {},
   "outputs": [],
   "source": [
    "'''\n",
    "6. What happens to variables in a local scope when the function call returns?\n",
    "\n",
    "Ans: local variables would be destroyed once the function call returns. \n",
    "'''"
   ]
  },
  {
   "cell_type": "code",
   "execution_count": null,
   "id": "bfdb0d5e",
   "metadata": {},
   "outputs": [],
   "source": [
    "'''\n",
    "7. What is the concept of a return value? Is it possible to have a return value in an expression?\n",
    "\n",
    "Ans:return returns value of expression wirtten inside a function when function is called .\n",
    "'''"
   ]
  },
  {
   "cell_type": "code",
   "execution_count": null,
   "id": "50367f49",
   "metadata": {},
   "outputs": [],
   "source": [
    "'''\n",
    "8. If a function does not have a return statement, what is the return value of a call to that function?\n",
    "\n",
    "Ans: if a function does not have return statement , then return value would be of Nonetype.\n",
    "'''"
   ]
  },
  {
   "cell_type": "code",
   "execution_count": null,
   "id": "a72642de",
   "metadata": {},
   "outputs": [],
   "source": [
    "'''\n",
    "9. How do you make a function variable refer to the global variable?\n",
    "\n",
    "Ans: generally variable inside a function is local variable I.e local to specific function in which it is defined \n",
    "     and we cannot call local variable outside a funtion.\n",
    "     variable inside a function can be made global by using a keyword global\n",
    "'''"
   ]
  },
  {
   "cell_type": "code",
   "execution_count": null,
   "id": "1075dd08",
   "metadata": {},
   "outputs": [],
   "source": [
    "'''\n",
    "10. What is the data type of None?\n",
    "\n",
    "Ans: datatype of None is NoneType , one another example of NoneType is print.\n",
    "'''"
   ]
  },
  {
   "cell_type": "code",
   "execution_count": null,
   "id": "23eaffb0",
   "metadata": {},
   "outputs": [],
   "source": [
    "'''\n",
    "11. What does the sentence import areallyourpetsnamederic do?\n",
    "\n",
    "Ans: imports a module named areallyourpetsnamederic\n",
    "\n",
    "'''"
   ]
  },
  {
   "cell_type": "code",
   "execution_count": null,
   "id": "cd15eec1",
   "metadata": {},
   "outputs": [],
   "source": [
    "'''\n",
    "12. If you had a bacon() feature in a spam module, what would you call it after importing spam?\n",
    "\n",
    "Ans: This depends on how we import , below are the different methods how we can call bacon()\n",
    "\n",
    "first method\n",
    "\n",
    "import spam  # importing without alising name\n",
    "spam.bacon()\n",
    "\n",
    "second method\n",
    "\n",
    "import spam as s  # importing with an alising name\n",
    "s.bacon()\n",
    "\n",
    "third method\n",
    "\n",
    "from spam import *  # importing all\n",
    "bacon()\n",
    "\n",
    "'''"
   ]
  },
  {
   "cell_type": "code",
   "execution_count": null,
   "id": "b98a949e",
   "metadata": {},
   "outputs": [],
   "source": [
    "'''\n",
    "13. What can you do to save a programme from crashing if it encounters an error?\n",
    "\n",
    "Ans: To avoid a programme from crashing because of run time error we can use try and except blocks\n",
    "'''"
   ]
  },
  {
   "cell_type": "code",
   "execution_count": null,
   "id": "405982f4",
   "metadata": {},
   "outputs": [],
   "source": [
    "'''\n",
    "14. What is the purpose of the try clause? What is the purpose of the except clause?\n",
    "\n",
    "Ans: There are some chances where code that is written  would return an runtime error by which the code lines below this code wont be excuted\n",
    "     and the whole execution would be stopped,some of the run time error are ZeroDivisonError,ValueError, FileNotFoundError\n",
    "     And we need to handle these runtime error and run an alternate code to have smooth run of total code .\n",
    "     for this we use try block for suspicious code and except block for alternate code and handling the exception.\n",
    "     \n",
    "     in the below example there are two chances of getting runtime error one is ValueError and the other is ZeroDivisionError\n",
    "     \n",
    "     so we have placed statements that get run time error in try block and handle the exceptions using except block\n",
    "     \n",
    "'''\n",
    "while True:    \n",
    "    try :\n",
    "        a = int(input(\"Enter first number \"))\n",
    "        b = int(input(\"Enter second number \"))\n",
    "        result = a/b\n",
    "\n",
    "    except ValueError as msg :\n",
    "        print (msg )\n",
    "        print(\"enter only intergers\")\n",
    "    except ZeroDivisionError as msg :\n",
    "        print (msg )\n",
    "        print (\"enter any number other than zero\") \n",
    "    else:\n",
    "        print(result)\n",
    "        break"
   ]
  }
 ],
 "metadata": {
  "kernelspec": {
   "display_name": "Python 3 (ipykernel)",
   "language": "python",
   "name": "python3"
  },
  "language_info": {
   "codemirror_mode": {
    "name": "ipython",
    "version": 3
   },
   "file_extension": ".py",
   "mimetype": "text/x-python",
   "name": "python",
   "nbconvert_exporter": "python",
   "pygments_lexer": "ipython3",
   "version": "3.9.7"
  }
 },
 "nbformat": 4,
 "nbformat_minor": 5
}
