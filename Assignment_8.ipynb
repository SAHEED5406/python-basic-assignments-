{
 "cells": [
  {
   "cell_type": "markdown",
   "id": "1eb36478",
   "metadata": {},
   "source": [
    "## 1. Is the Python Standard Library included with PyInputPlus?"
   ]
  },
  {
   "cell_type": "markdown",
   "id": "4c4b9c9b",
   "metadata": {},
   "source": [
    "### Ans:-  PyInputPlus is not a part of Python standard library we need to pip install this."
   ]
  },
  {
   "cell_type": "markdown",
   "id": "284989c6",
   "metadata": {},
   "source": [
    "## 2. Why is PyInputPlus commonly imported with import pyinputplus as pypi?"
   ]
  },
  {
   "cell_type": "markdown",
   "id": "0401178b",
   "metadata": {},
   "source": [
    "### Ans:- import pyinputplus as pypi ,\n",
    "###            here we are importing pyinputplus as pypi ,pypi is aliasing of pyinputplus   this avoids us from writing pyinputplus for everytime while calling its functions"
   ]
  },
  {
   "cell_type": "markdown",
   "id": "176c033b",
   "metadata": {},
   "source": [
    "## 3. How do you distinguish between inputInt() and inputFloat()?"
   ]
  },
  {
   "cell_type": "markdown",
   "id": "0eb346d3",
   "metadata": {},
   "source": [
    "### Ans: - inputInt will accept only intergers where as inputFloat will accept only float numbers"
   ]
  },
  {
   "cell_type": "markdown",
   "id": "ec5a7cce",
   "metadata": {},
   "source": [
    "## 4. Using PyInputPlus, how do you ensure that the user enters a whole number between 0 and 99?"
   ]
  },
  {
   "cell_type": "markdown",
   "id": "f32e1d4a",
   "metadata": {},
   "source": [
    "### Ans:- inputInt(min = 0 , lessThan= 100) ensures to enter num between 0 and 99"
   ]
  },
  {
   "cell_type": "markdown",
   "id": "d7baee74",
   "metadata": {},
   "source": [
    "## 5. What is transferred to the keyword arguments allowRegexes and blockRegexes?"
   ]
  },
  {
   "cell_type": "markdown",
   "id": "94cbdf8f",
   "metadata": {},
   "source": [
    "### Ans;- allowRegexes and blockRegexes keywords are used whether to accept or not to accept the input matching the regulur expression mentioned."
   ]
  },
  {
   "cell_type": "markdown",
   "id": "96647fd4",
   "metadata": {},
   "source": [
    "## 6. If a blank input is entered three times, what does inputStr(limit=3) do?"
   ]
  },
  {
   "cell_type": "markdown",
   "id": "ecade674",
   "metadata": {},
   "source": [
    "### Ans:- As blank = True is not mentioned input cannot be blank and as limit = 3 is mentioned input will be prompted for 3 times if wrong input is given all the three times RetryLimitException would be raised."
   ]
  },
  {
   "cell_type": "markdown",
   "id": "ea02d038",
   "metadata": {},
   "source": [
    "## 7. If blank input is entered three times, what does inputStr(limit=3, default='hello') do?"
   ]
  },
  {
   "cell_type": "markdown",
   "id": "9e16b584",
   "metadata": {},
   "source": [
    "### Ans:- if blank input is given all the three times after third time input will be taken as \"hello\" as default = 'hello' is mentioned."
   ]
  }
 ],
 "metadata": {
  "kernelspec": {
   "display_name": "Python 3 (ipykernel)",
   "language": "python",
   "name": "python3"
  },
  "language_info": {
   "codemirror_mode": {
    "name": "ipython",
    "version": 3
   },
   "file_extension": ".py",
   "mimetype": "text/x-python",
   "name": "python",
   "nbconvert_exporter": "python",
   "pygments_lexer": "ipython3",
   "version": "3.9.7"
  }
 },
 "nbformat": 4,
 "nbformat_minor": 5
}
